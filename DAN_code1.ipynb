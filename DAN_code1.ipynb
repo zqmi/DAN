{
 "cells": [
  {
   "cell_type": "code",
   "execution_count": 1,
   "id": "edc27c45",
   "metadata": {},
   "outputs": [],
   "source": [
    "import torch\n",
    "from torch.utils.data import DataLoader\n",
    "from torchvision import datasets, transforms\n",
    "from torchvision import models\n",
    "import matplotlib.pyplot as plt"
   ]
  },
  {
   "cell_type": "code",
   "execution_count": 2,
   "id": "ed57c84d",
   "metadata": {},
   "outputs": [],
   "source": [
    "transform = transforms.Compose([\n",
    "    transforms.Resize((227, 227)),\n",
    "    transforms.ToTensor(),\n",
    "    transforms.Normalize(mean=[0.5,0.5,0.5],std=[0.5,0.5,0.5])\n",
    "])"
   ]
  },
  {
   "cell_type": "code",
   "execution_count": 3,
   "id": "eb37412f",
   "metadata": {},
   "outputs": [],
   "source": [
    "source_dataset = datasets.ImageFolder(root='G:\\\\西电科研\\\\src\\\\py\\\\pythonProject\\\\' \\\n",
    "                                           '实现弱监督下的RM生成\\\\pytorch_DAN\\\\DAN\\\\data1\\\\sketch\\\\sketch', \n",
    "                                      transform=transform)\n",
    "target_dataset = datasets.ImageFolder(root='G:\\\\西电科研\\\\src\\\\py\\\\pythonProject\\\\' \\\n",
    "                                           '实现弱监督下的RM生成\\\\pytorch_DAN\\\\DAN\\\\data1\\\\quickdraw\\\\quickdraw', \n",
    "                                      transform=transform)"
   ]
  },
  {
   "cell_type": "code",
   "execution_count": 4,
   "id": "cf091581",
   "metadata": {},
   "outputs": [
    {
     "name": "stdout",
     "output_type": "stream",
     "text": [
      "Source Dataset:\n",
      "Number of samples: 70386\n",
      "Number of classes: 345\n",
      "\n",
      "Target Dataset:\n",
      "Number of samples: 172500\n",
      "Number of classes: 345\n"
     ]
    }
   ],
   "source": [
    "print(\"Source Dataset:\")\n",
    "print(f\"Number of samples: {len(source_dataset)}\")\n",
    "#print(f\"Class labels: {source_dataset.classes}\")\n",
    "print(f\"Number of classes: {len(source_dataset.classes)}\")\n",
    "\n",
    "print(\"\\nTarget Dataset:\")\n",
    "print(f\"Number of samples: {len(target_dataset)}\")\n",
    "#print(f\"Class labels: {target_dataset.classes}\")\n",
    "print(f\"Number of classes: {len(target_dataset.classes)}\")\n"
   ]
  },
  {
   "cell_type": "code",
   "execution_count": 5,
   "id": "d68e0f58",
   "metadata": {},
   "outputs": [
    {
     "name": "stdout",
     "output_type": "stream",
     "text": [
      "Source DataLoader:\n",
      "Batch size: 64\n",
      "Number of batches: 1099\n",
      "Drop last: True\n",
      "\n",
      "Target DataLoader:\n",
      "Batch size: 64\n",
      "Number of batches: 2695\n",
      "Drop last: True\n"
     ]
    }
   ],
   "source": [
    "source_dataloader = DataLoader(dataset=source_dataset,batch_size=64,shuffle=True,drop_last=True)\n",
    "target_dataloader = DataLoader(dataset=target_dataset,batch_size=64,shuffle=True,drop_last=True)\n",
    "\n",
    "print(\"Source DataLoader:\")\n",
    "print(f\"Batch size: {source_dataloader.batch_size}\")\n",
    "print(f\"Number of batches: {len(source_dataloader)}\")\n",
    "print(f\"Drop last: {source_dataloader.drop_last}\")\n",
    "\n",
    "print(\"\\nTarget DataLoader:\")\n",
    "print(f\"Batch size: {target_dataloader.batch_size}\")\n",
    "print(f\"Number of batches: {len(target_dataloader)}\")\n",
    "print(f\"Drop last: {target_dataloader.drop_last}\")"
   ]
  },
  {
   "cell_type": "code",
   "execution_count": 6,
   "id": "785eb582",
   "metadata": {},
   "outputs": [
    {
     "name": "stdout",
     "output_type": "stream",
     "text": [
      "source_dataloader:\n",
      "Batch 1:\n",
      "Data shape: torch.Size([64, 3, 227, 227])\n",
      "Target shape: torch.Size([64])\n",
      " \n",
      "target_dataloader:\n",
      "Batch 1:\n",
      "Data shape: torch.Size([64, 3, 227, 227])\n",
      "Target shape: torch.Size([64])\n"
     ]
    }
   ],
   "source": [
    "for batch_idx, (data, target) in enumerate(source_dataloader):\n",
    "    print(\"source_dataloader:\")\n",
    "    print(f\"Batch {batch_idx + 1}:\")\n",
    "    print(f\"Data shape: {data.shape}\")\n",
    "    print(f\"Target shape: {target.shape}\")\n",
    "    break\n",
    "\n",
    "print(\" \")\n",
    "    \n",
    "for batch_idx, (data, target) in enumerate(target_dataloader):\n",
    "    print(\"target_dataloader:\")\n",
    "    print(f\"Batch {batch_idx + 1}:\")\n",
    "    print(f\"Data shape: {data.shape}\")\n",
    "    print(f\"Target shape: {target.shape}\")\n",
    "    break    "
   ]
  },
  {
   "cell_type": "code",
   "execution_count": 7,
   "id": "61bd51f1",
   "metadata": {},
   "outputs": [],
   "source": [
    "import torchvision.models as models\n",
    "import torch.nn as nn"
   ]
  },
  {
   "cell_type": "code",
   "execution_count": 10,
   "id": "82fcef36",
   "metadata": {},
   "outputs": [
    {
     "name": "stdout",
     "output_type": "stream",
     "text": [
      "AlexNet(\n",
      "  (features): Sequential(\n",
      "    (0): Conv2d(3, 64, kernel_size=(11, 11), stride=(4, 4), padding=(2, 2))\n",
      "    (1): ReLU(inplace=True)\n",
      "    (2): MaxPool2d(kernel_size=3, stride=2, padding=0, dilation=1, ceil_mode=False)\n",
      "    (3): Conv2d(64, 192, kernel_size=(5, 5), stride=(1, 1), padding=(2, 2))\n",
      "    (4): ReLU(inplace=True)\n",
      "    (5): MaxPool2d(kernel_size=3, stride=2, padding=0, dilation=1, ceil_mode=False)\n",
      "    (6): Conv2d(192, 384, kernel_size=(3, 3), stride=(1, 1), padding=(1, 1))\n",
      "    (7): ReLU(inplace=True)\n",
      "    (8): Conv2d(384, 256, kernel_size=(3, 3), stride=(1, 1), padding=(1, 1))\n",
      "    (9): ReLU(inplace=True)\n",
      "    (10): Conv2d(256, 256, kernel_size=(3, 3), stride=(1, 1), padding=(1, 1))\n",
      "    (11): ReLU(inplace=True)\n",
      "    (12): MaxPool2d(kernel_size=3, stride=2, padding=0, dilation=1, ceil_mode=False)\n",
      "  )\n",
      "  (avgpool): AdaptiveAvgPool2d(output_size=(6, 6))\n",
      "  (classifier): Sequential(\n",
      "    (0): Dropout(p=0.5, inplace=False)\n",
      "    (1): Linear(in_features=9216, out_features=4096, bias=True)\n",
      "    (2): ReLU(inplace=True)\n",
      "    (3): Dropout(p=0.5, inplace=False)\n",
      "    (4): Linear(in_features=4096, out_features=4096, bias=True)\n",
      "    (5): ReLU(inplace=True)\n",
      "    (6): Linear(in_features=4096, out_features=1000, bias=True)\n",
      "  )\n",
      ")\n"
     ]
    }
   ],
   "source": [
    "alexnet = models.alexnet(weights=True)\n",
    "print(alexnet)"
   ]
  },
  {
   "cell_type": "code",
   "execution_count": 11,
   "id": "982a5949",
   "metadata": {},
   "outputs": [],
   "source": [
    "import torch\n",
    "from torch.autograd import Variable\n",
    "from torch.utils.data import DataLoader\n",
    "from torchvision import datasets, transforms\n",
    "from functools import partial\n",
    "import matplotlib.pyplot as plt\n",
    "import numpy as np\n",
    "import pylab\n",
    "import params"
   ]
  },
  {
   "cell_type": "code",
   "execution_count": 12,
   "id": "53116ea3",
   "metadata": {},
   "outputs": [],
   "source": [
    "def pairwise_distance(x, y):\n",
    "\n",
    "    if not len(x.shape) == len(y.shape) == 2:\n",
    "        raise ValueError('Both inputs should be matrices.')\n",
    "\n",
    "    if x.shape[1] != y.shape[1]:\n",
    "        raise ValueError('The number of features should be the same.')\n",
    "\n",
    "    x = x.view(x.shape[0], x.shape[1], 1)\n",
    "    y = torch.transpose(y, 0, 1)\n",
    "    output = torch.sum((x - y) ** 2, 1)\n",
    "    output = torch.transpose(output, 0, 1)\n",
    "\n",
    "    return output"
   ]
  },
  {
   "cell_type": "code",
   "execution_count": 13,
   "id": "41980773",
   "metadata": {},
   "outputs": [],
   "source": [
    "def gaussian_kernel_matrix(x, y, sigmas):\n",
    "\n",
    "    sigmas = sigmas.view(sigmas.shape[0], 1)\n",
    "    beta = 1. / (2. * sigmas)\n",
    "    dist = pairwise_distance(x, y).contiguous()\n",
    "    dist_ = dist.view(1, -1)\n",
    "    s = torch.matmul(beta, dist_)\n",
    "\n",
    "    return torch.sum(torch.exp(-s), 0).view_as(dist)"
   ]
  },
  {
   "cell_type": "code",
   "execution_count": 14,
   "id": "8ae58e23",
   "metadata": {},
   "outputs": [],
   "source": [
    "def maximum_mean_discrepancy(x, y, kernel= gaussian_kernel_matrix):\n",
    "\n",
    "    cost = torch.mean(kernel(x, x))\n",
    "    cost += torch.mean(kernel(y, y))\n",
    "    cost -= 2 * torch.mean(kernel(x, y))\n",
    "\n",
    "    return cost"
   ]
  },
  {
   "cell_type": "code",
   "execution_count": 15,
   "id": "8d188122",
   "metadata": {},
   "outputs": [],
   "source": [
    "def mmd_loss(source_features, target_features):\n",
    "\n",
    "    sigmas = [\n",
    "        1e-6, 1e-5, 1e-4, 1e-3, 1e-2, 1e-1, 1, 5, 10, 15, 20, 25, 30, 35, 100,\n",
    "        1e3, 1e4, 1e5, 1e6\n",
    "    ]\n",
    "   \n",
    "    gaussian_kernel = partial(\n",
    "            gaussian_kernel_matrix, sigmas = Variable(torch.cuda.FloatTensor(sigmas))\n",
    "        )\n",
    "   \n",
    "    loss_value = maximum_mean_discrepancy(source_features, target_features, kernel= gaussian_kernel)\n",
    "    loss_value = loss_value\n",
    "\n",
    "    return loss_value"
   ]
  },
  {
   "cell_type": "code",
   "execution_count": 16,
   "id": "90d7e6a5",
   "metadata": {},
   "outputs": [],
   "source": [
    "import torch\n",
    "import torchvision\n",
    "import numpy as np\n",
    "from torch.autograd import Variable\n",
    "\n",
    "import utils\n",
    "import params\n",
    "from tqdm import tqdm\n",
    "\n",
    "momentum = 0.9\n",
    "theta1 = 0.5\n",
    "theta2 = 0.5\n",
    "epochs = 100\n",
    "lr = 0.001"
   ]
  },
  {
   "cell_type": "code",
   "execution_count": 20,
   "id": "bdb903c5",
   "metadata": {},
   "outputs": [
    {
     "name": "stdout",
     "output_type": "stream",
     "text": [
      "Layer 0: Conv2d(3, 64, kernel_size=(11, 11), stride=(4, 4), padding=(2, 2))\n",
      "  requires_grad: False\n",
      "  requires_grad: False\n",
      "Layer 1: ReLU(inplace=True)\n",
      "Layer 2: MaxPool2d(kernel_size=3, stride=2, padding=0, dilation=1, ceil_mode=False)\n",
      "Layer 3: Conv2d(64, 192, kernel_size=(5, 5), stride=(1, 1), padding=(2, 2))\n",
      "  requires_grad: False\n",
      "  requires_grad: False\n",
      "Layer 4: ReLU(inplace=True)\n",
      "Layer 5: MaxPool2d(kernel_size=3, stride=2, padding=0, dilation=1, ceil_mode=False)\n",
      "Layer 6: Conv2d(192, 384, kernel_size=(3, 3), stride=(1, 1), padding=(1, 1))\n",
      "  requires_grad: False\n",
      "  requires_grad: False\n",
      "Layer 7: ReLU(inplace=True)\n",
      "Layer 8: Conv2d(384, 256, kernel_size=(3, 3), stride=(1, 1), padding=(1, 1))\n",
      "  requires_grad: True\n",
      "  requires_grad: True\n",
      "Layer 9: ReLU(inplace=True)\n",
      "Layer 10: Conv2d(256, 256, kernel_size=(3, 3), stride=(1, 1), padding=(1, 1))\n",
      "  requires_grad: True\n",
      "  requires_grad: True\n",
      "Layer 11: ReLU(inplace=True)\n",
      "Layer 12: MaxPool2d(kernel_size=3, stride=2, padding=0, dilation=1, ceil_mode=False)\n"
     ]
    }
   ],
   "source": [
    "common_net = models.AlexNet().features\n",
    "src_net = models.AlexNet().classifier\n",
    "tgt_net = models.AlexNet().classifier\n",
    "\n",
    "for param in common_net[:8].parameters():\n",
    "    param.requires_grad = False\n",
    "    \n",
    "for idx,layer in enumerate(common_net):\n",
    "    print(f\"Layer {idx}: {layer}\")\n",
    "    for param in layer.parameters():\n",
    "        print(f\"  requires_grad: {param.requires_grad}\")"
   ]
  },
  {
   "cell_type": "code",
   "execution_count": 21,
   "id": "501871f6",
   "metadata": {},
   "outputs": [],
   "source": [
    "src_dataiter = iter(source_dataloader)\n",
    "tgt_dataiter = iter(target_dataloader)\n",
    "src_imgs, src_labels = next(src_dataiter)\n",
    "tgt_imgs, tgt_labels = next(tgt_dataiter)"
   ]
  },
  {
   "cell_type": "code",
   "execution_count": 22,
   "id": "c003bd83",
   "metadata": {},
   "outputs": [],
   "source": [
    "train_hist = {}\n",
    "train_hist['Total_loss'] = []\n",
    "train_hist['Class_loss'] = []\n",
    "train_hist['MMD_loss'] = []\n",
    "\n",
    "test_hist = {}\n",
    "test_hist['Source Accuracy'] = []\n",
    "test_hist['Target Accuracy'] = []\n"
   ]
  },
  {
   "cell_type": "code",
   "execution_count": 23,
   "id": "cc686ca2",
   "metadata": {},
   "outputs": [
    {
     "data": {
      "text/plain": [
       "Sequential(\n",
       "  (0): Dropout(p=0.5, inplace=False)\n",
       "  (1): Linear(in_features=9216, out_features=4096, bias=True)\n",
       "  (2): ReLU(inplace=True)\n",
       "  (3): Dropout(p=0.5, inplace=False)\n",
       "  (4): Linear(in_features=4096, out_features=4096, bias=True)\n",
       "  (5): ReLU(inplace=True)\n",
       "  (6): Linear(in_features=4096, out_features=1000, bias=True)\n",
       ")"
      ]
     },
     "execution_count": 23,
     "metadata": {},
     "output_type": "execute_result"
    }
   ],
   "source": [
    "common_net.cuda()\n",
    "src_net.cuda()\n",
    "tgt_net.cuda()"
   ]
  },
  {
   "cell_type": "code",
   "execution_count": 24,
   "id": "d7b66aef",
   "metadata": {},
   "outputs": [],
   "source": [
    "import torch\n",
    "from torch.autograd import Variable\n",
    "from sklearn.manifold import TSNE\n",
    "import numpy as np\n",
    "from sklearn.decomposition import PCA"
   ]
  },
  {
   "cell_type": "code",
   "execution_count": 25,
   "id": "7d7e23da",
   "metadata": {},
   "outputs": [
    {
     "data": {
      "text/plain": [
       "<matplotlib.collections.PathCollection at 0x1a397b0adf0>"
      ]
     },
     "execution_count": 25,
     "metadata": {},
     "output_type": "execute_result"
    },
    {
     "data": {
      "image/png": "[encoded data removed]",
      "text/plain": [
       "<Figure size 800x600 with 1 Axes>"
      ]
     },
     "metadata": {},
     "output_type": "display_data"
    }
   ],
   "source": [
    "src_features = common_net(Variable(src_imgs.expand(src_imgs.shape[0], 3, 227, 227).cuda()))\n",
    "tgt_features = common_net(Variable(tgt_imgs.expand(tgt_imgs.shape[0], 3, 227, 227).cuda()))\n",
    "\n",
    "\n",
    "\n",
    "src_features = src_features.view(src_features.shape[0], -1)\n",
    "tgt_features = tgt_features.view(tgt_features.shape[0], -1)\n",
    "\n",
    "src_features = src_features.cpu().data.numpy()\n",
    "tgt_features = tgt_features.cpu().data.numpy()\n",
    "\n",
    "pca = PCA(n_components=2)\n",
    "src_features_2d = pca.fit_transform(src_features)  # 降维\n",
    "tgt_features_2d = pca.fit_transform(tgt_features)  # 降维\n",
    "\n",
    "plt.figure(figsize=(8, 6))\n",
    "\n",
    "# 绘制源特征，蓝色\n",
    "plt.scatter(src_features_2d[:, 0], src_features_2d[:, 1], color='b', label='Source Features', alpha=0.5)\n",
    "\n",
    "# 绘制目标特征，红色\n",
    "plt.scatter(tgt_features_2d[:, 0], tgt_features_2d[:, 1], color='r', label='Target Features', alpha=0.5)"
   ]
  },
  {
   "cell_type": "code",
   "execution_count": 26,
   "id": "21a3e6fb",
   "metadata": {},
   "outputs": [],
   "source": [
    "import torch.optim as optim"
   ]
  },
  {
   "cell_type": "code",
   "execution_count": 27,
   "id": "9a362e6c",
   "metadata": {},
   "outputs": [],
   "source": [
    "optimizer = optim.SGD([{'params': common_net.parameters()},\n",
    "                       {'params': src_net.parameters()},\n",
    "                       {'params': tgt_net.parameters()}], lr= params.lr, momentum= params.momentum)\n",
    "criterion = nn.CrossEntropyLoss()\n",
    "device = torch.device('cuda' if torch.cuda.is_available() else 'cpu')"
   ]
  },
  {
   "cell_type": "code",
   "execution_count": 34,
   "id": "a9001133",
   "metadata": {},
   "outputs": [],
   "source": [
    "from tqdm import tqdm\n",
    "import torch\n",
    "\n",
    "def train(common_net, src_net, tgt_net, optimizer, criterion, epoch,\n",
    "          source_dataloader, target_dataloader, train_hist, epochs):\n",
    "    \n",
    "    # 设置模型为训练模式\n",
    "    common_net.train()\n",
    "    src_net.train()\n",
    "    tgt_net.train()\n",
    "    \n",
    "    # 设置步数\n",
    "    start_steps = epoch * len(source_dataloader)\n",
    "    total_steps = epochs * len(source_dataloader)\n",
    "    \n",
    "    source_iter = iter(source_dataloader)\n",
    "    target_iter = iter(target_dataloader)\n",
    "    \n",
    "    # 使用 tqdm 包装训练数据集迭代器\n",
    "    with tqdm(total=min(len(source_dataloader), len(target_dataloader)), \n",
    "              desc=f\"Epoch {epoch + 1}/{epochs}\") as pbar:\n",
    "        for batch_idx in range(min(len(source_dataloader), len(target_dataloader))):\n",
    "            \n",
    "            sdata = next(source_iter)\n",
    "            tdata = next(target_iter)\n",
    "            \n",
    "            input1, label1 = sdata\n",
    "            input2, label2 = tdata\n",
    "            \n",
    "            input1, label1 = input1.cuda(), label1.cuda()\n",
    "            input2, label2 = input2.cuda(), label2.cuda()\n",
    "            \n",
    "            optimizer.zero_grad()\n",
    "            \n",
    "            # 扩展输入数据大小\n",
    "            input1 = input1.expand(input1.shape[0], 3, 227, 227)\n",
    "            \n",
    "            # 合并源数据和目标数据\n",
    "            input = torch.cat((input1, input2), 0)\n",
    "            \n",
    "            # 提取特征\n",
    "            common_feature = common_net(input)\n",
    "            \n",
    "            # 将特征按批次分割\n",
    "            src_feature, tgt_feature = torch.split(common_feature, 64)\n",
    "            \n",
    "            # 展平特征\n",
    "            src_feature = src_feature.view(src_feature.size(0), -1)\n",
    "            tgt_feature = tgt_feature.view(tgt_feature.size(0), -1)\n",
    "            \n",
    "            # 源网络和目标网络的输出\n",
    "            src_output = src_net(src_feature)\n",
    "            tgt_output = tgt_net(tgt_feature)\n",
    "            \n",
    "            # 计算类别损失\n",
    "            class_loss = criterion(src_output, label1)\n",
    "            \n",
    "            # 计算 MMD 损失\n",
    "            mmd_losss = mmd_loss(src_feature, tgt_feature) * theta1 + mmd_loss(src_output, tgt_output) * theta2\n",
    "            \n",
    "            # 总损失\n",
    "            loss = class_loss + mmd_losss\n",
    "            loss.backward()\n",
    "            \n",
    "            # 优化器更新参数\n",
    "            optimizer.step()\n",
    "            \n",
    "            # 将损失记录到历史\n",
    "            train_hist['Total_loss'].append(loss.cpu().data.item())\n",
    "            train_hist['Class_loss'].append(class_loss.cpu().data.item())\n",
    "            train_hist['MMD_loss'].append(mmd_losss.cpu().data.item())\n",
    "            \n",
    "            # 更新 tqdm 显示的损失信息\n",
    "            pbar.set_postfix({'Total Loss': loss.item(),\n",
    "                              'Class Loss': class_loss.item(),\n",
    "                              'MMD Loss': mmd_losss.item()})\n",
    "            \n",
    "            pbar.update(1)  # 更新进度条\n"
   ]
  },
  {
   "cell_type": "code",
   "execution_count": null,
   "id": "4135e4a7",
   "metadata": {},
   "outputs": [
    {
     "name": "stderr",
     "output_type": "stream",
     "text": [
      "Epoch 1/100:  10%|████▌                                       | 113/1099 [06:01<40:05,  2.44s/it, Total Loss=6.96, Class Loss=6.3, MMD Loss=0.664]"
     ]
    }
   ],
   "source": [
    "for epoch in range(100):\n",
    "    train(common_net, src_net, tgt_net, optimizer, criterion,\n",
    "                epoch, source_dataloader, target_dataloader, train_hist,epochs)"
   ]
  },
  {
   "cell_type": "code",
   "execution_count": null,
   "id": "298c9494",
   "metadata": {},
   "outputs": [],
   "source": []
  }
 ],
 "metadata": {
  "kernelspec": {
   "display_name": "Py_ai",
   "language": "python",
   "name": "myenv"
  },
  "language_info": {
   "codemirror_mode": {
    "name": "ipython",
    "version": 3
   },
   "file_extension": ".py",
   "mimetype": "text/x-python",
   "name": "python",
   "nbconvert_exporter": "python",
   "pygments_lexer": "ipython3",
   "version": "3.8.19"
  }
 },
 "nbformat": 4,
 "nbformat_minor": 5
}
